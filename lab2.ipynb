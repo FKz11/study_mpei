{
  "nbformat": 4,
  "nbformat_minor": 0,
  "metadata": {
    "colab": {
      "provenance": [],
      "authorship_tag": "ABX9TyPvUGHEhdESQDpNzyJ+tf7h",
      "include_colab_link": true
    },
    "kernelspec": {
      "name": "python3",
      "display_name": "Python 3"
    },
    "language_info": {
      "name": "python"
    }
  },
  "cells": [
    {
      "cell_type": "markdown",
      "metadata": {
        "id": "view-in-github",
        "colab_type": "text"
      },
      "source": [
        "<a href=\"https://colab.research.google.com/github/FKz11/study_mpei/blob/main/lab2.ipynb\" target=\"_parent\"><img src=\"https://colab.research.google.com/assets/colab-badge.svg\" alt=\"Open In Colab\"/></a>"
      ]
    },
    {
      "cell_type": "markdown",
      "source": [
        "### Библиотеки"
      ],
      "metadata": {
        "id": "s13--m8yJirD"
      }
    },
    {
      "cell_type": "code",
      "source": [
        "import numpy as np"
      ],
      "metadata": {
        "id": "fbH2T_x3Br3y"
      },
      "execution_count": null,
      "outputs": []
    },
    {
      "cell_type": "markdown",
      "source": [
        "### 1. Задаём характеристики робота манипултяора"
      ],
      "metadata": {
        "id": "Ur_glBY96mRb"
      }
    },
    {
      "cell_type": "code",
      "execution_count": null,
      "metadata": {
        "id": "9RiDBbyd6RoY"
      },
      "outputs": [],
      "source": [
        "vmax=0.11\n",
        "tm=20\n",
        "dt=0.05\n",
        "d1=0.033\n",
        "l1=0.075\n",
        "l2=0.155\n",
        "l3=0.135\n",
        "l4=0.2176"
      ]
    },
    {
      "cell_type": "markdown",
      "source": [
        "### 2. Определяем массив точек для плавного движения по заданной траектории"
      ],
      "metadata": {
        "id": "1k9X3NnO6pNU"
      }
    },
    {
      "cell_type": "code",
      "source": [
        "x_0 = 0.15\n",
        "x_t2 = 0.3\n",
        "z_0 = 0.4\n",
        "z_t2 = 0.4\n",
        "theta = -1\n",
        "tm = 20\n",
        "n = int((tm/2)/dt)\n",
        "x = [x_0]\n",
        "z = [z_0]\n",
        "x_v = [x_0-d1-l4*np.cos(theta)]\n",
        "z_v = [z_0-l1+l4*np.sin(theta)]\n",
        "for i in range(1, n+1):\n",
        "  x.append(x[i-1]+(x_t2-x_0)/n)\n",
        "  z.append(z[i-1]+(z_t2-z_0)/n)\n",
        "  x_v.append(x[i]-d1-l4*np.cos(theta))\n",
        "  z_v.append(z[i]-l1+l4*np.sin(theta))"
      ],
      "metadata": {
        "id": "TTxjvCv06bKN"
      },
      "execution_count": null,
      "outputs": []
    },
    {
      "cell_type": "markdown",
      "source": [
        "### 3. Вычисляем 2 комплекта углов"
      ],
      "metadata": {
        "id": "A53Opkk0CFm2"
      }
    },
    {
      "cell_type": "code",
      "source": [
        "fi3_1 = np.array([np.arccos((x_v[i]**2+z_v[i]**2-l2**2-l3**2)/(2*l2*l3)) for i in range(n+1)])\n",
        "fi2_1 = np.array([np.arctan2(l2+l3*np.cos(fi3_1[i]), l3*np.sin(fi3_1[i]))-np.arctan2(z_v[i],x_v[i]) for i in range(n+1)])\n",
        "fi4_1 = np.array([theta-fi2_1[i]-fi3_1[i]+np.pi/2 for i in range(n+1)])\n",
        "fi3_2 = np.array([-np.arccos((x_v[i]**2+z_v[i]**2-l2**2-l3**2)/(2*l2*l3)) for i in range(n+1)])\n",
        "fi2_2 = np.array([np.arctan2(l2+l3*np.cos(fi3_2[i]), l3*np.sin(fi3_2[i]))-np.arctan2(z_v[i],x_v[i]) for i in range(n+1)])\n",
        "fi4_2 = np.array([theta-fi2_2[i]-fi3_2[i]+np.pi/2 for i in range(n+1)])"
      ],
      "metadata": {
        "id": "MNWUCnLMCGc9"
      },
      "execution_count": null,
      "outputs": []
    },
    {
      "cell_type": "markdown",
      "source": [
        "### 4. Определяем тот массив который может реализовать робот манипулятор с заданными характеристиками."
      ],
      "metadata": {
        "id": "7_RULjfeJpWI"
      }
    },
    {
      "cell_type": "code",
      "source": [
        "g2u=2.62-1.13\n",
        "g2l=0.01-1.13\n",
        "g3u=-0.01+2.56 \n",
        "g3l=-4.8+2.56  \n",
        "g4u=3.43-1.8 \n",
        "g4l=0.022-1.8"
      ],
      "metadata": {
        "id": "hLq56jvpGDhx"
      },
      "execution_count": null,
      "outputs": []
    },
    {
      "cell_type": "markdown",
      "source": [
        "1-ый комплект"
      ],
      "metadata": {
        "id": "S1mP0E1MJup5"
      }
    },
    {
      "cell_type": "code",
      "source": [
        "((fi2_1 < g3u) & (fi2_1 > g2l)).all() and ((fi3_1 < g3u) & (fi3_1 > g3l)).all() and ((fi4_1 < g4u) & (fi4_1 > g4l)).all()"
      ],
      "metadata": {
        "colab": {
          "base_uri": "https://localhost:8080/"
        },
        "id": "H9k8sAmmEJSY",
        "outputId": "500e6df6-2925-42d3-862f-96c75ac67119"
      },
      "execution_count": null,
      "outputs": [
        {
          "output_type": "execute_result",
          "data": {
            "text/plain": [
              "True"
            ]
          },
          "metadata": {},
          "execution_count": 57
        }
      ]
    },
    {
      "cell_type": "markdown",
      "source": [
        "2-ой комплект"
      ],
      "metadata": {
        "id": "aWq0OSVUJw8r"
      }
    },
    {
      "cell_type": "code",
      "source": [
        "((fi2_2 < g3u) & (fi2_2 > g2l)).all() and ((fi3_2 < g3u) & (fi3_2 > g3l)).all() and ((fi4_2 < g4u) & (fi4_2 > g4l)).all()"
      ],
      "metadata": {
        "colab": {
          "base_uri": "https://localhost:8080/"
        },
        "id": "oB4Du1aGHs4N",
        "outputId": "3d494de9-05bd-419d-c138-fc1f85315c97"
      },
      "execution_count": null,
      "outputs": [
        {
          "output_type": "execute_result",
          "data": {
            "text/plain": [
              "False"
            ]
          },
          "metadata": {},
          "execution_count": 58
        }
      ]
    },
    {
      "cell_type": "code",
      "source": [
        "((fi4_2 < g4u) & (fi4_2 > g4l)).all()"
      ],
      "metadata": {
        "colab": {
          "base_uri": "https://localhost:8080/"
        },
        "id": "dAvHlXQeFxfm",
        "outputId": "6e4adeaf-58e8-43b9-de45-0abb0cc46580"
      },
      "execution_count": null,
      "outputs": [
        {
          "output_type": "execute_result",
          "data": {
            "text/plain": [
              "False"
            ]
          },
          "metadata": {},
          "execution_count": 59
        }
      ]
    },
    {
      "cell_type": "code",
      "source": [
        "(fi4_2 < g4u) & (fi4_2 > g4l)"
      ],
      "metadata": {
        "colab": {
          "base_uri": "https://localhost:8080/"
        },
        "id": "ZNXv5lFiH4g0",
        "outputId": "0a49ded4-fa27-4575-9706-e6ce502ec7eb"
      },
      "execution_count": null,
      "outputs": [
        {
          "output_type": "execute_result",
          "data": {
            "text/plain": [
              "array([False, False, False, False, False, False, False, False, False,\n",
              "       False, False, False, False, False, False, False, False, False,\n",
              "       False, False, False, False, False, False, False,  True,  True,\n",
              "        True,  True,  True,  True,  True,  True,  True,  True,  True,\n",
              "        True,  True,  True,  True,  True,  True,  True,  True,  True,\n",
              "        True,  True,  True,  True,  True,  True,  True,  True,  True,\n",
              "        True,  True,  True,  True,  True,  True,  True,  True,  True,\n",
              "        True,  True,  True,  True,  True,  True,  True,  True,  True,\n",
              "        True,  True,  True,  True,  True,  True,  True,  True,  True,\n",
              "        True,  True,  True,  True,  True,  True,  True,  True,  True,\n",
              "        True,  True,  True,  True,  True,  True,  True,  True,  True,\n",
              "        True,  True,  True,  True,  True,  True,  True,  True,  True,\n",
              "        True,  True,  True,  True,  True,  True,  True,  True,  True,\n",
              "        True,  True,  True,  True,  True,  True,  True,  True,  True,\n",
              "        True,  True,  True,  True,  True,  True,  True,  True,  True,\n",
              "        True,  True,  True,  True,  True,  True,  True,  True,  True,\n",
              "        True,  True,  True,  True,  True,  True,  True,  True,  True,\n",
              "        True,  True,  True,  True,  True,  True,  True,  True,  True,\n",
              "        True,  True,  True,  True,  True,  True,  True,  True,  True,\n",
              "        True,  True,  True,  True,  True,  True,  True,  True,  True,\n",
              "        True,  True,  True,  True,  True,  True,  True,  True,  True,\n",
              "        True,  True,  True,  True,  True,  True,  True,  True,  True,\n",
              "        True,  True,  True])"
            ]
          },
          "metadata": {},
          "execution_count": 60
        }
      ]
    },
    {
      "cell_type": "code",
      "source": [
        "fi4_2[~(np.array(fi4_2) < g4u)]"
      ],
      "metadata": {
        "colab": {
          "base_uri": "https://localhost:8080/"
        },
        "id": "xfZ7kN32H9Cz",
        "outputId": "5e0548de-0a77-448c-b39c-1944614d60bd"
      },
      "execution_count": null,
      "outputs": [
        {
          "output_type": "execute_result",
          "data": {
            "text/plain": [
              "array([1.76212068, 1.75684043, 1.75153987, 1.74621927, 1.74087896,\n",
              "       1.73551921, 1.73014034, 1.72474266, 1.71932645, 1.71389204,\n",
              "       1.70843972, 1.70296982, 1.69748263, 1.69197846, 1.68645764,\n",
              "       1.68092046, 1.67536725, 1.66979832, 1.66421398, 1.65861454,\n",
              "       1.65300031, 1.64737162, 1.64172877, 1.63607209, 1.63040187])"
            ]
          },
          "metadata": {},
          "execution_count": 63
        }
      ]
    },
    {
      "cell_type": "code",
      "source": [
        "g4u"
      ],
      "metadata": {
        "colab": {
          "base_uri": "https://localhost:8080/"
        },
        "id": "0rSFLFL3H_jW",
        "outputId": "afb15183-fd54-4292-b496-d879eb5bc54b"
      },
      "execution_count": null,
      "outputs": [
        {
          "output_type": "execute_result",
          "data": {
            "text/plain": [
              "1.6300000000000001"
            ]
          },
          "metadata": {},
          "execution_count": 64
        }
      ]
    },
    {
      "cell_type": "markdown",
      "source": [
        "## Подходит первый комплект!"
      ],
      "metadata": {
        "id": "-MS_MXqZJ2Ph"
      }
    },
    {
      "cell_type": "markdown",
      "source": [
        "### Запись точек в файл"
      ],
      "metadata": {
        "id": "oSntuB97KCLl"
      }
    },
    {
      "cell_type": "code",
      "source": [
        "fi2 = np.concatenate((fi2_1[:-1], fi2_1[::-1]))\n",
        "fi3 = np.concatenate((fi3_1[:-1], fi3_1[::-1]))\n",
        "fi4 = np.concatenate((fi4_1[:-1], fi4_1[::-1]))\n",
        "\n",
        "with open('lab2_in.txt', 'w') as f:\n",
        "  data = ''\n",
        "  for i in range(2*n+1):\n",
        "    data += f'0 {fi2[i]} {fi3[i]} {fi4[i]} 0\\n'\n",
        "  f.write(data)"
      ],
      "metadata": {
        "id": "kiOTfnF-Kcak"
      },
      "execution_count": null,
      "outputs": []
    }
  ]
}